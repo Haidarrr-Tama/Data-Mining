{
 "cells": [
  {
   "cell_type": "code",
   "execution_count": 3,
   "id": "9141c4d5-2874-4e20-9465-9ecc338e1155",
   "metadata": {},
   "outputs": [],
   "source": [
    "import numpy as np\n",
    "import pandas as pd\n",
    "import matplotlib.pyplot as plt"
   ]
  },
  {
   "cell_type": "code",
   "execution_count": 4,
   "id": "1b3d3007-7825-4b3d-a66b-e086d920e4be",
   "metadata": {},
   "outputs": [],
   "source": [
    "dataset = pd.read_csv('Data.csv', sep=';')\n",
    "x = dataset.iloc[:,:-1].values\n",
    "y = dataset.iloc[:,-1].values"
   ]
  },
  {
   "cell_type": "code",
   "execution_count": 5,
   "id": "db0fe845-0527-4782-9131-bc31491722a6",
   "metadata": {},
   "outputs": [
    {
     "name": "stdout",
     "output_type": "stream",
     "text": [
      "   country   age   salary purchased\n",
      "0   france  44.0  72000.0        no\n",
      "1    spain  27.0  48000.0       yes\n",
      "2  germany  30.0  54000.0        no\n",
      "3    spain  38.0  61000.0        no\n",
      "4  germany  40.0      NaN      yes \n"
     ]
    }
   ],
   "source": [
    "print(dataset.head())"
   ]
  },
  {
   "cell_type": "code",
   "execution_count": 6,
   "id": "dd30d434-b085-4977-8b4e-f506df5fb373",
   "metadata": {},
   "outputs": [
    {
     "name": "stdout",
     "output_type": "stream",
     "text": [
      "[['france' 44.0 72000.0]\n",
      " ['spain' 27.0 48000.0]\n",
      " ['germany' 30.0 54000.0]\n",
      " ['spain' 38.0 61000.0]\n",
      " ['germany' 40.0 nan]\n",
      " ['france' 35.0 58000.0]\n",
      " ['spain' nan 52000.0]\n",
      " ['france' 48.0 79000.0]\n",
      " ['germany' 50.0 83000.0]\n",
      " ['france' 37.0 67000.0]\n",
      " ['indonesia' 20.0 50000.0]\n",
      " ['france' 22.0 45000.0]\n",
      " ['indonesia' 45.0 21400.0]\n",
      " ['indonesia' 29.0 40000.0]]\n"
     ]
    }
   ],
   "source": [
    "print(x)"
   ]
  },
  {
   "cell_type": "code",
   "execution_count": 7,
   "id": "8583e0d1-1ebb-4fae-aef6-b322f47e9015",
   "metadata": {},
   "outputs": [
    {
     "name": "stdout",
     "output_type": "stream",
     "text": [
      "['no' 'yes' 'no' 'no' 'yes ' 'yes' 'no' 'yes' 'no' 'yes' 'no' 'yes' 'no'\n",
      " 'no']\n"
     ]
    }
   ],
   "source": [
    "print(y)"
   ]
  },
  {
   "cell_type": "code",
   "execution_count": 8,
   "id": "749e4d5d-cbd5-4fb9-a699-f28b7fa73f2c",
   "metadata": {},
   "outputs": [],
   "source": [
    "from sklearn.impute import SimpleImputer\n",
    "imputer = SimpleImputer(missing_values=np.nan, strategy='mean')\n",
    "imputer.fit(x[:,1:3])\n",
    "x[:, 1:3] = imputer.transform(x[:, 1:3])"
   ]
  },
  {
   "cell_type": "code",
   "execution_count": 9,
   "id": "22302c49-bc11-4226-9a58-bdfd5ce7ceb3",
   "metadata": {},
   "outputs": [
    {
     "name": "stdout",
     "output_type": "stream",
     "text": [
      "[['france' 44.0 72000.0]\n",
      " ['spain' 27.0 48000.0]\n",
      " ['germany' 30.0 54000.0]\n",
      " ['spain' 38.0 61000.0]\n",
      " ['germany' 40.0 56184.61538461538]\n",
      " ['france' 35.0 58000.0]\n",
      " ['spain' 35.76923076923077 52000.0]\n",
      " ['france' 48.0 79000.0]\n",
      " ['germany' 50.0 83000.0]\n",
      " ['france' 37.0 67000.0]\n",
      " ['indonesia' 20.0 50000.0]\n",
      " ['france' 22.0 45000.0]\n",
      " ['indonesia' 45.0 21400.0]\n",
      " ['indonesia' 29.0 40000.0]]\n"
     ]
    }
   ],
   "source": [
    "print(x)"
   ]
  },
  {
   "cell_type": "code",
   "execution_count": 10,
   "id": "d390e0fd-2e02-41fc-ac6c-260283d78c94",
   "metadata": {},
   "outputs": [],
   "source": [
    "from sklearn.compose import ColumnTransformer\n",
    "from sklearn.preprocessing import OneHotEncoder\n",
    "ct = ColumnTransformer(transformers=[('encoder',OneHotEncoder(),[0])], remainder='passthrough')\n",
    "x = np.array(ct.fit_transform(x))"
   ]
  },
  {
   "cell_type": "code",
   "execution_count": 12,
   "id": "7bd04afe-90d6-4e91-ab74-07320ba98a2b",
   "metadata": {},
   "outputs": [
    {
     "name": "stdout",
     "output_type": "stream",
     "text": [
      "[[1.0 0.0 0.0 0.0 44.0 72000.0]\n",
      " [0.0 0.0 0.0 1.0 27.0 48000.0]\n",
      " [0.0 1.0 0.0 0.0 30.0 54000.0]\n",
      " [0.0 0.0 0.0 1.0 38.0 61000.0]\n",
      " [0.0 1.0 0.0 0.0 40.0 56184.61538461538]\n",
      " [1.0 0.0 0.0 0.0 35.0 58000.0]\n",
      " [0.0 0.0 0.0 1.0 35.76923076923077 52000.0]\n",
      " [1.0 0.0 0.0 0.0 48.0 79000.0]\n",
      " [0.0 1.0 0.0 0.0 50.0 83000.0]\n",
      " [1.0 0.0 0.0 0.0 37.0 67000.0]\n",
      " [0.0 0.0 1.0 0.0 20.0 50000.0]\n",
      " [1.0 0.0 0.0 0.0 22.0 45000.0]\n",
      " [0.0 0.0 1.0 0.0 45.0 21400.0]\n",
      " [0.0 0.0 1.0 0.0 29.0 40000.0]]\n"
     ]
    }
   ],
   "source": [
    "print(x)"
   ]
  },
  {
   "cell_type": "code",
   "execution_count": 13,
   "id": "f93c421d-bdb3-4f6a-b0ef-da0e41f9e9e3",
   "metadata": {},
   "outputs": [],
   "source": [
    "from sklearn.preprocessing import LabelEncoder\n",
    "le = LabelEncoder()\n",
    "y = le.fit_transform(y)"
   ]
  },
  {
   "cell_type": "code",
   "execution_count": 14,
   "id": "fe74f38e-0cbf-4d7c-abca-2c991d0c7ace",
   "metadata": {},
   "outputs": [
    {
     "name": "stdout",
     "output_type": "stream",
     "text": [
      "[0 1 0 0 2 1 0 1 0 1 0 1 0 0]\n"
     ]
    }
   ],
   "source": [
    "print(y)"
   ]
  },
  {
   "cell_type": "code",
   "execution_count": 15,
   "id": "1d157143-8e79-4457-833e-af79d37a5bf0",
   "metadata": {},
   "outputs": [],
   "source": [
    "from sklearn.model_selection import train_test_split\n",
    "x_train, x_test, y_train, y_test = train_test_split(x, y, test_size = 0.2, random_state = 1)"
   ]
  },
  {
   "cell_type": "code",
   "execution_count": 18,
   "id": "71f70001-bcd8-4e27-8bfd-498d8485e1b4",
   "metadata": {},
   "outputs": [
    {
     "name": "stdout",
     "output_type": "stream",
     "text": [
      "[[0.0 1.0 0.0 0.0 30.0 54000.0]\n",
      " [0.0 0.0 1.0 0.0 20.0 50000.0]\n",
      " [0.0 1.0 0.0 0.0 40.0 56184.61538461538]\n",
      " [0.0 0.0 0.0 1.0 27.0 48000.0]\n",
      " [0.0 0.0 1.0 0.0 45.0 21400.0]\n",
      " [1.0 0.0 0.0 0.0 44.0 72000.0]\n",
      " [0.0 0.0 1.0 0.0 29.0 40000.0]\n",
      " [1.0 0.0 0.0 0.0 37.0 67000.0]\n",
      " [0.0 1.0 0.0 0.0 50.0 83000.0]\n",
      " [1.0 0.0 0.0 0.0 22.0 45000.0]\n",
      " [1.0 0.0 0.0 0.0 35.0 58000.0]]\n"
     ]
    }
   ],
   "source": [
    "print(x_train)"
   ]
  },
  {
   "cell_type": "code",
   "execution_count": 19,
   "id": "cc17ed36-6daf-4860-869f-2fa1f7631c8c",
   "metadata": {},
   "outputs": [
    {
     "name": "stdout",
     "output_type": "stream",
     "text": [
      "[[0.0 0.0 0.0 1.0 38.0 61000.0]\n",
      " [1.0 0.0 0.0 0.0 48.0 79000.0]\n",
      " [0.0 0.0 0.0 1.0 35.76923076923077 52000.0]]\n"
     ]
    }
   ],
   "source": [
    "print(x_test)"
   ]
  },
  {
   "cell_type": "code",
   "execution_count": 20,
   "id": "a292dbff-a552-471e-b8dc-82b80540b1f1",
   "metadata": {},
   "outputs": [
    {
     "name": "stdout",
     "output_type": "stream",
     "text": [
      "[0 0 2 1 0 0 0 1 0 1 1]\n"
     ]
    }
   ],
   "source": [
    "print(y_train)"
   ]
  },
  {
   "cell_type": "code",
   "execution_count": 21,
   "id": "13d9f340-0a43-412e-a08c-2816870f2f0c",
   "metadata": {},
   "outputs": [
    {
     "name": "stdout",
     "output_type": "stream",
     "text": [
      "[0 1 0]\n"
     ]
    }
   ],
   "source": [
    "print(y_test)"
   ]
  },
  {
   "cell_type": "code",
   "execution_count": 22,
   "id": "d264c9c0-996d-4e3d-8d88-5dabf037aa16",
   "metadata": {},
   "outputs": [],
   "source": [
    "from sklearn.preprocessing import StandardScaler\n",
    "sc = StandardScaler()\n",
    "x_train[:, 3:] = sc.fit_transform(x_train[:, 3:])\n",
    "x_test[:, 3:] = sc.fit_transform(x_test[:, 3:])"
   ]
  },
  {
   "cell_type": "code",
   "execution_count": 23,
   "id": "e24d57ab-f27a-4b13-868d-74d8eaab0354",
   "metadata": {},
   "outputs": [
    {
     "name": "stdout",
     "output_type": "stream",
     "text": [
      "[[0.0 1.0 0.0 -0.316227766016838 -0.4791502965599001\n",
      "  -0.003363442280190084]\n",
      " [0.0 0.0 1.0 -0.316227766016838 -1.5547938194494721 -0.25650672968398974]\n",
      " [0.0 1.0 0.0 -0.316227766016838 0.5964932263296719 0.13489173776342347]\n",
      " [0.0 0.0 0.0 3.16227766016838 -0.8018433534267717 -0.38307837338588957]\n",
      " [0.0 0.0 1.0 -0.316227766016838 1.1343149877744578 -2.066481234621157]\n",
      " [1.0 0.0 0.0 -0.316227766016838 1.0267506354855007 1.1357813510369084]\n",
      " [0.0 0.0 1.0 -0.316227766016838 -0.5867146488488574 -0.8893649481934889]\n",
      " [1.0 0.0 0.0 -0.316227766016838 0.2738001694628003 0.8193522417821588]\n",
      " [0.0 1.0 0.0 -0.316227766016838 1.6721367492192438 1.8319253913973574]\n",
      " [1.0 0.0 0.0 -0.316227766016838 -1.3396651148715577 -0.5729358389387393]\n",
      " [1.0 0.0 0.0 -0.316227766016838 0.058671464884885886 0.24977984512360957]]\n"
     ]
    }
   ],
   "source": [
    "print(x_train)"
   ]
  },
  {
   "cell_type": "code",
   "execution_count": 24,
   "id": "a22787f1-97f0-4dfd-b1be-7b7bc3289653",
   "metadata": {},
   "outputs": [
    {
     "name": "stdout",
     "output_type": "stream",
     "text": [
      "[[0.0 0.0 0.0 0.7071067811865476 -0.4869407000953254 -0.2672612419124244]\n",
      " [1.0 0.0 0.0 -1.414213562373095 1.3933253695796926 1.3363062095621219]\n",
      " [0.0 0.0 0.0 0.7071067811865476 -0.9063846694843684 -1.0690449676496976]]\n"
     ]
    }
   ],
   "source": [
    "print(x_test)"
   ]
  },
  {
   "cell_type": "code",
   "execution_count": null,
   "id": "b08e94fa-b4bc-48bb-a5fa-b55dcd1103e2",
   "metadata": {},
   "outputs": [],
   "source": []
  }
 ],
 "metadata": {
  "kernelspec": {
   "display_name": "Python 3 (ipykernel)",
   "language": "python",
   "name": "python3"
  },
  "language_info": {
   "codemirror_mode": {
    "name": "ipython",
    "version": 3
   },
   "file_extension": ".py",
   "mimetype": "text/x-python",
   "name": "python",
   "nbconvert_exporter": "python",
   "pygments_lexer": "ipython3",
   "version": "3.11.7"
  }
 },
 "nbformat": 4,
 "nbformat_minor": 5
}
